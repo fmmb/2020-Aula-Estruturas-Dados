{
 "cells": [
  {
   "cell_type": "markdown",
   "metadata": {
    "slideshow": {
     "slide_type": "slide"
    }
   },
   "source": [
    "## Data Manipulation With Pandas\n",
    "\n",
    "### Based on the _Python Data Science Handbook_ by Jake VanderPlas\n",
    "\n",
    "\n",
    "<br><br><br>\n",
    "\n",
    "\n",
    "**Fernando Batista**\n",
    "\n",
    "*fernando.batista[at]iscte-iul.pt*"
   ]
  },
  {
   "cell_type": "markdown",
   "metadata": {
    "slideshow": {
     "slide_type": "slide"
    }
   },
   "source": [
    "# Pandas\n",
    "* A newer package built on top of NumPy, and provides an efficient implementation of a DataFrame\n",
    "* DataFrames: essentially multidimensional arrays with attached row and column labels, and often with heterogeneous types and/or missing data.\n",
    "* Pandas implements a number of powerful data operations familiar to users of both database frameworks and spreadsheet programs."
   ]
  },
  {
   "cell_type": "markdown",
   "metadata": {
    "slideshow": {
     "slide_type": "slide"
    }
   },
   "source": [
    "# Pandas Objects\n",
    "* Series\n",
    "  * analog to one-dimensional array with flexible indices\n",
    "* DataFrame\n",
    "  * analog to a two-dimensional array with both flexible row indices and flexible column names\n",
    "  * you can think of a DataFrame as a sequence of aligned Series objects.\n",
    "    * \"aligned\" means that they share the same index.\n",
    "* Index\n"
   ]
  },
  {
   "cell_type": "markdown",
   "metadata": {
    "slideshow": {
     "slide_type": "slide"
    }
   },
   "source": [
    "# Series"
   ]
  },
  {
   "cell_type": "markdown",
   "metadata": {
    "slideshow": {
     "slide_type": "slide"
    }
   },
   "source": [
    "# DataFrame"
   ]
  },
  {
   "cell_type": "markdown",
   "metadata": {
    "slideshow": {
     "slide_type": "slide"
    }
   },
   "source": [
    "# The Pandas Index Object"
   ]
  },
  {
   "cell_type": "code",
   "execution_count": null,
   "metadata": {},
   "outputs": [],
   "source": []
  }
 ],
 "metadata": {
  "kernelspec": {
   "display_name": "Python 3",
   "language": "python",
   "name": "python3"
  },
  "language_info": {
   "codemirror_mode": {
    "name": "ipython",
    "version": 3
   },
   "file_extension": ".py",
   "mimetype": "text/x-python",
   "name": "python",
   "nbconvert_exporter": "python",
   "pygments_lexer": "ipython3",
   "version": "3.6.9"
  }
 },
 "nbformat": 4,
 "nbformat_minor": 2
}

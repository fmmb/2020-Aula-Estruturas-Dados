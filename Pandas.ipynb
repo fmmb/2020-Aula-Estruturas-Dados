{
 "cells": [
  {
   "cell_type": "markdown",
   "metadata": {
    "slideshow": {
     "slide_type": "slide"
    }
   },
   "source": [
    "## Data Manipulation with Pandas\n",
    "\n",
    "\n",
    "\n",
    "<br>\n",
    "\n",
    "**Fernando Batista**\n",
    "\n",
    "*fernando.batista[at]iscte-iul.pt*\n",
    "<br><br>\n",
    "\n",
    "\n",
    "**Credits**: slides [pandas: Powerful data analysis tools for Python](https://www.slideshare.net/wesm/pandas-powerful-data-analysis-tools-for-python)"
   ]
  },
  {
   "cell_type": "markdown",
   "metadata": {
    "slideshow": {
     "slide_type": "slide"
    }
   },
   "source": [
    "# About me ...\n",
    "\n",
    "* Docente do ISCTE-IUL e investigador no [INESC-ID](http://www.inesc-id.pt)\n",
    "* Interesses de investigação\n",
    "  * PLN (Processamento de Língua Natural) \n",
    "  * _Machine Learning_\n",
    "  * Processamento de Fala\n",
    "  * _Social Media_\n",
    "* Unidades curriculares (lecionadas mais recentemente)\n",
    "  * Processamento Computacional da Língua\n",
    "  * Text Mining\n",
    "  * Aprendizagem Probabilística para PNL\n",
    "  * Sistemas Operativos"
   ]
  },
  {
   "cell_type": "markdown",
   "metadata": {
    "slideshow": {
     "slide_type": "slide"
    }
   },
   "source": [
    "## How to run these slides?\n",
    "\n",
    "* If you just want the notebook, go to my GitHub Repository<Br>\n",
    "https://github.com/fmmb/Estruturas-Dados.git\n",
    "\n",
    "* If you want to execute the code, you need to use the following URL<Br>\n",
    "https://mybinder.org/v2/gh/fmmb/Estruturas-Dados.git/master (http://tiny.cc/x1f1iz)<Br>\n",
    "If it didn't work, please do the following\n",
    "  * go to https://mybinder.org\n",
    "  * Copy&Paste the address of my GitHub Repository\n",
    "  * Copy the resulting URL and share your Binder with others\n",
    "  \n",
    "Optionally, you may also want to activate [RISE](https://rise.readthedocs.io/) before opening the notebook (or just reload it afterwords)\n",
    "```\n",
    " ! pip install RISE\n",
    "```"
   ]
  },
  {
   "cell_type": "markdown",
   "metadata": {
    "slideshow": {
     "slide_type": "skip"
    }
   },
   "source": [
    "Creating the Slides: \n",
    "`jupyter nbconvert Pandas.ipynb --to slides`"
   ]
  },
  {
   "cell_type": "markdown",
   "metadata": {
    "slideshow": {
     "slide_type": "slide"
    }
   },
   "source": [
    "# Pandas\n",
    "* http://pandas.pydata.org <Br>\n",
    "Free software released under the three-clause BSD license\n",
    "* Rich relational data tool built on top of **NumPy**\n",
    "  * Like R's `data.frame` on steroids\n",
    "  * Excellent performance\n",
    "  * Easy-to-use, consistent API\n",
    "* A foundation for data analysis in Python"
   ]
  },
  {
   "cell_type": "markdown",
   "metadata": {
    "slideshow": {
     "slide_type": "subslide"
    }
   },
   "source": [
    "# Pandas\n",
    "<div style=\"float:right\"> <img src=\"images/related_tags_over_time.png\" width=\"500\"/> </div>\n",
    "\n",
    "* Initial release in 2008, now in heavy production use in the industry\n",
    "* Generally much better performance than other open source alternatives (e.g. R)\n",
    "* Hope: basis for the “next generation” statistical computing and analysis environment"
   ]
  },
  {
   "cell_type": "markdown",
   "metadata": {
    "slideshow": {
     "slide_type": "subslide"
    }
   },
   "source": [
    "# What can you do with pandas?\n",
    "- Calculate statistics and answer questions about the data, like\n",
    "    - What's the average, median, max, or min of each column? \n",
    "    - Does column A correlate with column B?\n",
    "    - What does the distribution of data in column C look like?\n",
    "- Clean the data by doing things like removing missing values and filtering rows or columns by some criteria\n",
    "- Visualize the data with help from Matplotlib. Plot bars, lines, histograms, bubbles, and more. \n",
    "- Read and store the cleaned, transformed data back into a CSV, other file or database"
   ]
  },
  {
   "cell_type": "markdown",
   "metadata": {
    "slideshow": {
     "slide_type": "subslide"
    }
   },
   "source": [
    "# Pandas\n",
    "<div style=\"float:right\"> <img src=\"images/series-and-dataframe.png\" width=\"600\"/> </div>\n",
    "\n",
    "* Efficient implementation of a **DataFrame**\n",
    "* **DataFrames**: multidimensional arrays with attached row and column labels, and often with heterogeneous types and/or missing data\n",
    "* implements a number of powerful data operations familiar to users of both database frameworks and spreadsheet programs"
   ]
  },
  {
   "cell_type": "markdown",
   "metadata": {
    "slideshow": {
     "slide_type": "subslide"
    }
   },
   "source": [
    "# Pandas objects\n",
    "* Series\n",
    "  * analog to one-dimensional array with flexible indices\n",
    "* DataFrame\n",
    "  * analog to a two-dimensional array with both flexible row indices and flexible column names\n",
    "  * you can think of a DataFrame as a sequence of aligned Series objects.\n",
    "    * \"aligned\" means that they share the same index.\n",
    "* Index\n"
   ]
  },
  {
   "cell_type": "markdown",
   "metadata": {
    "slideshow": {
     "slide_type": "subslide"
    }
   },
   "source": [
    "# Series object\n",
    "\n",
    "<div style=\"float:right\"> <img src=\"images/pandas-series.png\" width=\"200\"/> </div>\n",
    "\n",
    "* Subclass of `numpy.ndarray`\n",
    "* Data: any type\n",
    "* Index labels need not be ordered"
   ]
  },
  {
   "cell_type": "markdown",
   "metadata": {
    "slideshow": {
     "slide_type": "subslide"
    }
   },
   "source": [
    "# Dataframe object\n",
    "\n",
    "<div style=\"float:right\"> <img src=\"images/pandas-dataframe.png\" width=\"400\"/> </div>\n",
    "\n",
    "* `NumPy` array-like\n",
    "* Each column can have a different type\n",
    "* Row and column index\n",
    "* Size mutable: insert and delete columns"
   ]
  },
  {
   "cell_type": "markdown",
   "metadata": {
    "slideshow": {
     "slide_type": "slide"
    }
   },
   "source": [
    "# Let's have a little fun\n",
    "\n",
    "## with some practical stuff\n",
    "\n",
    "<br>\n",
    "\n",
    "* [Pandas fundamentals](pandas-fundamentals.ipynb)\n",
    "* [Practical example: IMBD database](pactical-example.ipynb)"
   ]
  },
  {
   "cell_type": "raw",
   "metadata": {},
   "source": [
    "import pandas as pd"
   ]
  },
  {
   "cell_type": "markdown",
   "metadata": {
    "slideshow": {
     "slide_type": "skip"
    }
   },
   "source": [
    "![pandas-operations.png](images/pandas-operations.png)\n",
    "\n",
    "* Binary operations are joins\n"
   ]
  },
  {
   "cell_type": "markdown",
   "metadata": {
    "slideshow": {
     "slide_type": "skip"
    }
   },
   "source": [
    "# Pandas GroupBy\n",
    "\n",
    "![pandas-groupby.png](images/pandas-groupby.png)"
   ]
  },
  {
   "cell_type": "markdown",
   "metadata": {
    "slideshow": {
     "slide_type": "skip"
    }
   },
   "source": [
    "# Hierarquical indexes\n",
    "\n",
    "\n",
    "![pandas-hierarq-index.png](images/pandas-hierarq-index.png)\n",
    "\n",
    "* Semantics: a tuple at each tick\n",
    "* Enables easy group selection\n",
    "* Terminology:“multiple levels”\n",
    "* Natural part of GroupBy and reshape operations"
   ]
  },
  {
   "cell_type": "code",
   "execution_count": null,
   "metadata": {},
   "outputs": [],
   "source": []
  }
 ],
 "metadata": {
  "kernelspec": {
   "display_name": "Python 3",
   "language": "python",
   "name": "python3"
  },
  "language_info": {
   "codemirror_mode": {
    "name": "ipython",
    "version": 3
   },
   "file_extension": ".py",
   "mimetype": "text/x-python",
   "name": "python",
   "nbconvert_exporter": "python",
   "pygments_lexer": "ipython3",
   "version": "3.6.9"
  }
 },
 "nbformat": 4,
 "nbformat_minor": 2
}
